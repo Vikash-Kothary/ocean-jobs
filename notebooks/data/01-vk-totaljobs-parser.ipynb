{
 "cells": [
  {
   "cell_type": "code",
   "execution_count": null,
   "metadata": {},
   "outputs": [],
   "source": [
    "cd ../.."
   ]
  },
  {
   "cell_type": "markdown",
   "metadata": {},
   "source": [
    "# Totaljobs Parser"
   ]
  },
  {
   "cell_type": "code",
   "execution_count": null,
   "metadata": {},
   "outputs": [],
   "source": [
    "from IPython.core.display import display,HTML"
   ]
  },
  {
   "cell_type": "code",
   "execution_count": null,
   "metadata": {},
   "outputs": [],
   "source": [
    "raw_file = 'data/raw/totaljobs.html'\n",
    "interim_file = 'data/interim/totaljobs.html'"
   ]
  },
  {
   "cell_type": "markdown",
   "metadata": {},
   "source": [
    "#### Search Params"
   ]
  },
  {
   "cell_type": "code",
   "execution_count": null,
   "metadata": {},
   "outputs": [],
   "source": [
    "sort_by = {\n",
    "    'relevance': 1,\n",
    "    'date': 2,\n",
    "    'salery - low to high': 3,\n",
    "    ''\n",
    "    \n",
    "}"
   ]
  },
  {
   "cell_type": "markdown",
   "metadata": {},
   "source": [
    "#### Raw HTML"
   ]
  },
  {
   "cell_type": "code",
   "execution_count": null,
   "metadata": {},
   "outputs": [],
   "source": [
    "# %%writefile src/ocean_jobs/data/parsers/totaljobs.py\n",
    "import requests\n",
    "from bs4 import BeautifulSoup"
   ]
  },
  {
   "cell_type": "code",
   "execution_count": null,
   "metadata": {},
   "outputs": [],
   "source": [
    "totaljob_url = 'https://www.totaljobs.com/jobs/data-scientist/in-london?radius=10'\n",
    "headers = {\n",
    "    'user-agent': 'Mozilla/4.0 (compatible; MSIE 7.0; Windows NT 5.1)'\n",
    "}\n",
    "job_page = requests.get(totaljob_url, headers=headers, allow_redirects=True)\n",
    "with open(raw_file, 'w+') as f:\n",
    "    f.write(job_page.text)"
   ]
  },
  {
   "cell_type": "markdown",
   "metadata": {},
   "source": [
    "#### Interim HTML"
   ]
  },
  {
   "cell_type": "code",
   "execution_count": null,
   "metadata": {},
   "outputs": [],
   "source": [
    "import re\n",
    "import shutil\n",
    "from bs4 import BeautifulSoup\n",
    "from bs4 import Comment"
   ]
  },
  {
   "cell_type": "code",
   "execution_count": null,
   "metadata": {},
   "outputs": [],
   "source": [
    "shutil.copy2(raw_file, interim_file)\n",
    "soup = BeautifulSoup(job_page.text, 'html.parser')\n",
    "for tag in soup.findAll(text=lambda text: isinstance(text, Comment)):\n",
    "    tag.extract()\n",
    "for tag in soup.select('meta'):\n",
    "    tag.extract()\n",
    "for tag in soup.select('link'):\n",
    "    tag.extract()\n",
    "for tag in soup.select('style'):\n",
    "    tag.extract()\n",
    "for tag in soup.select('script'):\n",
    "    tag.extract()\n",
    "for tag in soup.select('noscript'):\n",
    "    tag.extract()\n",
    "for tag in soup.select('img'):\n",
    "    tag.extract()\n",
    "for tag in soup.findAll(style=re.compile(r'display:\\s*none')):\n",
    "    tag.decompose()\n",
    "with open(interim_file, 'w+') as f:\n",
    "    f.write(soup.prettify())"
   ]
  },
  {
   "cell_type": "code",
   "execution_count": null,
   "metadata": {},
   "outputs": [],
   "source": [
    "display(HTML(interim_file))"
   ]
  },
  {
   "cell_type": "code",
   "execution_count": null,
   "metadata": {},
   "outputs": [],
   "source": []
  }
 ],
 "metadata": {
  "kernelspec": {
   "display_name": "Python 3",
   "language": "python",
   "name": "python3"
  },
  "language_info": {
   "codemirror_mode": {
    "name": "ipython",
    "version": 3
   },
   "file_extension": ".py",
   "mimetype": "text/x-python",
   "name": "python",
   "nbconvert_exporter": "python",
   "pygments_lexer": "ipython3",
   "version": "3.7.6"
  }
 },
 "nbformat": 4,
 "nbformat_minor": 4
}
